{
  "cells": [
    {
      "cell_type": "markdown",
      "metadata": {
        "id": "view-in-github",
        "colab_type": "text"
      },
      "source": [
        "<a href=\"https://colab.research.google.com/github/mpintoponce/Modulo-I/blob/main/Clase1_Algoritmos_y_Programas.ipynb\" target=\"_parent\"><img src=\"https://colab.research.google.com/assets/colab-badge.svg\" alt=\"Open In Colab\"/></a>"
      ]
    },
    {
      "cell_type": "markdown",
      "id": "66a05a74",
      "metadata": {
        "id": "66a05a74"
      },
      "source": [
        "# Clase 1: Algoritmos y Programas - Segmentación de clientes en campañas de ahorro\n",
        "\n",
        "Esta clase introduce los conceptos básicos de programación y cómo aplicarlos para segmentar clientes en campañas comerciales de ahorro."
      ]
    },
    {
      "cell_type": "markdown",
      "id": "75a251b5",
      "metadata": {
        "id": "75a251b5"
      },
      "source": [
        "# 🧩 ¿Qué es un algoritmo?\n"
      ]
    },
    {
      "cell_type": "markdown",
      "source": [
        "\n",
        "Un algoritmo es una secuencia ordenada y finita de pasos que resuelve un problema o realiza una tarea.\n",
        "\n",
        "\n",
        "✍️ Ejemplo cotidiano:\n",
        "\n",
        "Algoritmo para hacer un sándwich:\n",
        "Sacar dos rebanadas de pan.\n",
        "Colocar jamón y queso entre ellas.\n",
        "Cerrar el sándwich.\n",
        "Comer.\n",
        "\n",
        "\n",
        "🏦 Ejemplo bancario:\n",
        "\n",
        "Algoritmo para ofrecer un producto de ahorro:\n",
        "Revisar edad y nivel de ingresos del cliente.\n",
        "Determinar si ya tiene cuenta de ahorro.\n",
        "Si no tiene, enviarle una oferta personalizada.\n",
        "Si tiene, sugerir depósito a plazo o cuenta con más beneficios.\n"
      ],
      "metadata": {
        "id": "rI1Gb1hjn9H-"
      },
      "id": "rI1Gb1hjn9H-"
    },
    {
      "cell_type": "markdown",
      "source": [
        "# 💡 ¿Qué es programar?\n",
        "Programar es escribir instrucciones (algoritmos) en un lenguaje que una computadora pueda entender y ejecutar. En este curso usaremos Python."
      ],
      "metadata": {
        "id": "YAmloF7DoMBs"
      },
      "id": "YAmloF7DoMBs"
    },
    {
      "cell_type": "markdown",
      "source": [
        "# 🐍 ¿Qué es Python?\n",
        "Python es un lenguaje de programación popular por ser:\n",
        "\n",
        "\n",
        "\n",
        "*   Simple de leer y escribir.\n",
        "*   Muy usado en análisis de datos, ciencia, inteligencia artificial, y automatización.\n",
        "*   Compatible con muchas herramientas bancarias (como bases de datos, dashboards, APIs).\n",
        "\n",
        "\n",
        "\n",
        "\n",
        "\n"
      ],
      "metadata": {
        "id": "49g5qlD2ohBi"
      },
      "id": "49g5qlD2ohBi"
    },
    {
      "cell_type": "markdown",
      "source": [
        "# 🧠 ¿Cómo piensa una computadora?\n",
        "La computadora:\n",
        "\n",
        "\n",
        "\n",
        "1.   Lee instrucciones una por una.\n",
        "2.   Ejecuta exactamente lo que se le indica.\n",
        "3.   No \"entiende\" el contexto, así que debemos ser súper claros.\n",
        "\n",
        "\n",
        "\n"
      ],
      "metadata": {
        "id": "Gjt063Bhoxbw"
      },
      "id": "Gjt063Bhoxbw"
    },
    {
      "cell_type": "markdown",
      "source": [
        "# 🛠 ¿Qué se necesita para comenzar?\n",
        "Solo tres cosas:\n",
        "\n",
        "\n",
        "\n",
        "1.   Un lugar donde escribir (editor o notebook).\n",
        "2.   Pensamiento lógico.\n",
        "3.   Curiosidad para probar.\n",
        "\n",
        "\n",
        "\n"
      ],
      "metadata": {
        "id": "LcOOIp34o8cT"
      },
      "id": "LcOOIp34o8cT"
    },
    {
      "cell_type": "markdown",
      "id": "ca735ed7",
      "metadata": {
        "id": "ca735ed7"
      },
      "source": [
        "## Tipos de datos en Python\n",
        "números (`int`, `float`), texto (`str`) y booleanos (`bool`).\n",
        "\n",
        "1.   int – Números enteros: Representa números sin decimales.\n",
        "\n"
      ]
    },
    {
      "cell_type": "code",
      "source": [
        "edad = 31\n",
        "saldo_cuenta = -250\n",
        "clientes_activos = 1340\n"
      ],
      "metadata": {
        "id": "oiuvUb7bqBtk"
      },
      "id": "oiuvUb7bqBtk",
      "execution_count": null,
      "outputs": []
    },
    {
      "cell_type": "markdown",
      "source": [
        "\n",
        "\n",
        "2.  float – Números decimales: Representa números con punto decimal (flotantes).\n",
        "\n"
      ],
      "metadata": {
        "id": "GyGmORWZqBKV"
      },
      "id": "GyGmORWZqBKV"
    },
    {
      "cell_type": "code",
      "source": [
        "tasa_interes = 5.75\n",
        "precio_dolar = 3.91\n",
        "temperatura = -2.4"
      ],
      "metadata": {
        "id": "itrl7uqsqNPW"
      },
      "id": "itrl7uqsqNPW",
      "execution_count": null,
      "outputs": []
    },
    {
      "cell_type": "markdown",
      "source": [
        "3.  str – Cadenas de texto (strings): Representa texto entre comillas simples ' o dobles \"."
      ],
      "metadata": {
        "id": "OzoYQ554qSv2"
      },
      "id": "OzoYQ554qSv2"
    },
    {
      "cell_type": "code",
      "source": [
        "nombre_cliente = \"Moni\"\n",
        "tipo_producto = 'Tarjeta de crédito'\n",
        "fecha = \"2025-04-05\""
      ],
      "metadata": {
        "id": "9vRChAUeqYox"
      },
      "id": "9vRChAUeqYox",
      "execution_count": null,
      "outputs": []
    },
    {
      "cell_type": "markdown",
      "source": [
        "4. bool – Valores lógicos (booleanos): Representa valores de verdad, solo puede ser:\n",
        "\n",
        "* True (verdadero)\n",
        "* False (falso)"
      ],
      "metadata": {
        "id": "5vSL0K-vqeJT"
      },
      "id": "5vSL0K-vqeJT"
    },
    {
      "cell_type": "code",
      "source": [
        "es_cliente_activo = True\n",
        "tiene_deuda = False\n",
        "ingreso_mayor_3000 = ingreso > 3000  # Esto devuelve un bool"
      ],
      "metadata": {
        "id": "IfisCA_HqlhK"
      },
      "id": "IfisCA_HqlhK",
      "execution_count": null,
      "outputs": []
    },
    {
      "cell_type": "markdown",
      "source": [
        "# 🧠 Tip: ¿Cómo saber qué tipo tiene una variable?\n",
        "\n",
        " Usa la función type():"
      ],
      "metadata": {
        "id": "xoOcj_z5qsfD"
      },
      "id": "xoOcj_z5qsfD"
    },
    {
      "cell_type": "code",
      "source": [
        "type(3.14)        # <class 'float'>\n",
        "type(\"hola\")      # <class 'str'>\n",
        "type(False)       # <class 'bool'>\n",
        "type(1200)        # <class 'int'>"
      ],
      "metadata": {
        "id": "r2yOiDESq0LP"
      },
      "id": "r2yOiDESq0LP",
      "execution_count": null,
      "outputs": []
    },
    {
      "cell_type": "markdown",
      "id": "d287f658",
      "metadata": {
        "id": "d287f658"
      },
      "source": [
        "# 🔁 Ciclo básico de un programa:\n",
        "\n",
        "\n",
        "*   Recibe entrada (input).\n",
        "*   Procesa esa entrada.\n",
        "*   Devuelve una salida (output)."
      ]
    },
    {
      "cell_type": "code",
      "source": [
        "nombre = input(\"¿Cómo te llamas? \")\n",
        "print(\"Hola\", nombre)"
      ],
      "metadata": {
        "id": "JOpUs75ypdT1"
      },
      "id": "JOpUs75ypdT1",
      "execution_count": null,
      "outputs": []
    },
    {
      "cell_type": "markdown",
      "source": [
        "# 📌 Ejemplo aplicado:\n",
        "\n",
        "segmentación de clientes para una campaña de ahorro\n",
        "\n",
        "* Recoger datos del cliente: edad, ingreso, nivel de ahorro\n",
        "* Calcular porcentaje de ahorro respecto al ingreso mensual\n",
        "* Mostrar en pantalla su categoría:"
      ],
      "metadata": {
        "id": "NREEuC6-rFxv"
      },
      "id": "NREEuC6-rFxv"
    },
    {
      "cell_type": "code",
      "execution_count": null,
      "id": "13b2d703",
      "metadata": {
        "id": "13b2d703"
      },
      "outputs": [],
      "source": [
        "# Ingreso de datos\n",
        "ahorro = float(input(\"Ahorro mensual (S/): \"))  # Solicita cuánto ahorra el cliente\n",
        "ingreso = float(input(\"Ingreso mensual (S/): \"))  # Solicita su ingreso total\n",
        "\n",
        "# Cálculo del porcentaje de ahorro\n",
        "porcentaje = (ahorro / ingreso) * 100  # Se calcula el porcentaje que representa el ahorro sobre el ingreso\n",
        "print(\"Porcentaje de ahorro:\", porcentaje)\n",
        "\n",
        "# Clasificación del cliente según su porcentaje de ahorro\n",
        "if porcentaje >= 20:\n",
        "    print(\"Segmento: Premium\")  # Alta capacidad de ahorro\n",
        "else:\n",
        "    print(\"Segmento: Estándar\")  # Ahorro menor, con potencial de fidelización\n"
      ]
    },
    {
      "cell_type": "markdown",
      "id": "19cf9ee4",
      "metadata": {
        "id": "19cf9ee4"
      },
      "source": [
        "## Reto propuesto\n",
        "Crear un algoritmo para recomendar una cuenta de ahorro personalizada según ingreso y edad."
      ]
    },
    {
      "cell_type": "code",
      "source": [],
      "metadata": {
        "id": "C6gByT_R1Onm"
      },
      "id": "C6gByT_R1Onm",
      "execution_count": null,
      "outputs": []
    }
  ],
  "metadata": {
    "colab": {
      "provenance": [],
      "include_colab_link": true
    },
    "language_info": {
      "name": "python"
    },
    "kernelspec": {
      "name": "python3",
      "display_name": "Python 3"
    }
  },
  "nbformat": 4,
  "nbformat_minor": 5
}